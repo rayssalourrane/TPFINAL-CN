{
 "cells": [
  {
   "cell_type": "code",
   "execution_count": null,
   "metadata": {},
   "outputs": [],
   "source": [
    "from math import pi as pi\n",
    "from timeit import default_timer as timer\n",
    "Euler = 0\n",
    "t_ini = timer()\n",
    "for n in range(1,10000000):\n",
    "    Euler += 1/(n**2)\n",
    "t_fim = timer()\n",
    "print(f'Euler: {Euler} == \\u03C0^2/6: {pi**2/6}')\n",
    "print(f\"Tempo: {t_fim-t_ini} segundos\")"
   ]
  }
 ],
 "metadata": {
  "kernelspec": {
   "display_name": "Python 3",
   "language": "python",
   "name": "python3"
  },
  "language_info": {
   "codemirror_mode": {
    "name": "ipython",
    "version": 3
   },
   "file_extension": ".py",
   "mimetype": "text/x-python",
   "name": "python",
   "nbconvert_exporter": "python",
   "pygments_lexer": "ipython3",
   "version": "3.7.3"
  }
 },
 "nbformat": 4,
 "nbformat_minor": 2
}
