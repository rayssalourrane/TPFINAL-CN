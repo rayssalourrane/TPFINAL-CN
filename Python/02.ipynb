{
 "cells": [
  {
   "cell_type": "code",
   "execution_count": null,
   "metadata": {},
   "outputs": [],
   "source": [
    "from timeit import default_timer as timer\n",
    "import random\n",
    "n = 10000\n",
    "t_ini = timer()\n",
    "for i in range(n):\n",
    "    z = random.randint(1, n)\n",
    "    x = f\"{z}\"; y = int(x)\n",
    "    print(f\"Tipo de X: {type(x)} - {x}, Tipo de Y: {type(y)} - {y}\")\n",
    "    print(y ** 2)\n",
    "    print(z==y)\n",
    "t_fim = timer()\n",
    "print(f\"Tempo: {t_fim-t_ini} segundos\")"
   ]
  }
 ],
 "metadata": {
  "kernelspec": {
   "display_name": "Python 3",
   "language": "python",
   "name": "python3"
  },
  "language_info": {
   "codemirror_mode": {
    "name": "ipython",
    "version": 3
   },
   "file_extension": ".py",
   "mimetype": "text/x-python",
   "name": "python",
   "nbconvert_exporter": "python",
   "pygments_lexer": "ipython3",
   "version": "3.7.3"
  }
 },
 "nbformat": 4,
 "nbformat_minor": 2
}
