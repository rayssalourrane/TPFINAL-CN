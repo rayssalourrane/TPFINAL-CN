{
 "cells": [
  {
   "cell_type": "code",
   "execution_count": null,
   "metadata": {},
   "outputs": [],
   "source": [
    "import numpy as np\n",
    "from timeit import default_timer as timer"
   ]
  },
  {
   "cell_type": "code",
   "execution_count": null,
   "metadata": {},
   "outputs": [],
   "source": [
    "def randmatstat(t):\n",
    "    n = 5\n",
    "    v = np.zeros(t)\n",
    "    w = np.zeros(t)\n",
    "    for k in range(t):\n",
    "        a = np.random.randn(n, n)\n",
    "        b = np.random.randn(n, n)\n",
    "        c = np.random.randn(n, n)\n",
    "        d = np.random.randn(n, n)\n",
    "        P = np.concatenate((a, b, c, d))\n",
    "        Q = np.concatenate((np.concatenate((a, b), axis=0), np.concatenate((c, d), axis=0)), axis=1)\n",
    "        v[k] = np.trace(np.power((P.T).dot(P), 4))\n",
    "        w[k] = np.trace(np.power((Q.T).dot(Q), 4))\n",
    "    np.std(v)/np.mean(v)\n",
    "    np.std(w)/np.mean(w)"
   ]
  },
  {
   "cell_type": "code",
   "execution_count": null,
   "metadata": {},
   "outputs": [],
   "source": [
    "t_ini = timer()\n",
    "randmatstat(10000)\n",
    "t_fim = timer()\n",
    "print(f\"Tempo: {t_fim-t_ini} segundos\")"
   ]
  }
 ],
 "metadata": {
  "kernelspec": {
   "display_name": "Python 3",
   "language": "python",
   "name": "python3"
  },
  "language_info": {
   "codemirror_mode": {
    "name": "ipython",
    "version": 3
   },
   "file_extension": ".py",
   "mimetype": "text/x-python",
   "name": "python",
   "nbconvert_exporter": "python",
   "pygments_lexer": "ipython3",
   "version": "3.7.3"
  }
 },
 "nbformat": 4,
 "nbformat_minor": 2
}
