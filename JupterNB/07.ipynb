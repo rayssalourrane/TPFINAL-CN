{
 "cells": [
  {
   "cell_type": "code",
   "execution_count": null,
   "metadata": {},
   "outputs": [],
   "source": [
    "from timeit import default_timer as timer"
   ]
  },
  {
   "cell_type": "code",
   "execution_count": null,
   "metadata": {},
   "outputs": [],
   "source": [
    "def SOR(A, b, w, Toler, IterMax):\n",
    "    n = len(A)\n",
    "    x = [0, 0, 0, 0, 0]\n",
    "    v = [0, 0, 0, 0, 0]\n",
    "    for i in range(n):\n",
    "        r = 1/A[i][i]\n",
    "        for j in range(n):\n",
    "            if(i != j):\n",
    "                A[i][j] = A[i][j] * r\n",
    "        b[i] = b[i] * r\n",
    "        x[i] = b[i]\n",
    "    Iter = 0\n",
    "    NormaRel = 1000\n",
    "    while (NormaRel > Toler and Iter < IterMax):\n",
    "        Iter += 1\n",
    "        for i in range(n):\n",
    "            soma = 0;\n",
    "            for j in range(n):\n",
    "                if (i != j):\n",
    "                    soma = soma + A[i][j] * x[j]\n",
    "            v[i] = x[i]\n",
    "            x[i] = w * (b[i] - soma) + (1 - w) * x[i]\n",
    "        NormaNum = 0\n",
    "        NormaDen = 0\n",
    "        for i in range(n):\n",
    "            t = abs(x[i] - v[i])\n",
    "            if (t > NormaNum):\n",
    "                NormaNum = t\n",
    "            if (abs(x[i]) > NormaDen):\n",
    "                NormaDen = abs(x[i])\n",
    "        NormaRel = NormaNum/NormaDen\n",
    "    if (NormaRel <= Toler):\n",
    "        CondErro = 0\n",
    "    else:\n",
    "        CondErro = 1\n",
    "    \n",
    "    print(f'Iter: {Iter}\\nx: {x}\\nNormalRel: {NormaRel}\\nCondErro: {CondErro}')"
   ]
  },
  {
   "cell_type": "code",
   "execution_count": null,
   "metadata": {},
   "outputs": [],
   "source": [
    "A = [[4, -2, 1, 3, 0], [-1, 10, 0, 8, 1], [-1, 1, 15, 2, 4], [0, 1, 10, 5, 1], [2, -3, 1, 2, 20]]\n",
    "b = [15, 56, 74, 57, 107]\n",
    "w = 1.6\n",
    "Toler = 0.000010000\n",
    "IterMax = 10000"
   ]
  },
  {
   "cell_type": "code",
   "execution_count": null,
   "metadata": {},
   "outputs": [],
   "source": [
    "t_ini = timer()\n",
    "SOR(A, b, w, Toler, IterMax)\n",
    "t_fim = timer()\n",
    "print(f\"Tempo: {t_fim-t_ini} segundos\")"
   ]
  }
 ],
 "metadata": {
  "kernelspec": {
   "display_name": "Python 3",
   "language": "python",
   "name": "python3"
  },
  "language_info": {
   "codemirror_mode": {
    "name": "ipython",
    "version": 3
   },
   "file_extension": ".py",
   "mimetype": "text/x-python",
   "name": "python",
   "nbconvert_exporter": "python",
   "pygments_lexer": "ipython3",
   "version": "3.7.3"
  }
 },
 "nbformat": 4,
 "nbformat_minor": 2
}
