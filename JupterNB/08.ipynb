{
 "cells": [
  {
   "cell_type": "code",
   "execution_count": null,
   "metadata": {},
   "outputs": [],
   "source": [
    "from timeit import default_timer as timer"
   ]
  },
  {
   "cell_type": "code",
   "execution_count": null,
   "metadata": {},
   "outputs": [],
   "source": [
    "def Newton(x0, Toler, IterMax):\n",
    "    def f(x):\n",
    "        x = (x**4) + (2*x**3) - (13*x**2) - (14*x) + 24\n",
    "        return x\n",
    "    def df(x):\n",
    "        x = (4*x**3) + (6*x**2) - (26*x) - 14\n",
    "        return x\n",
    "    Fx = f(x0); DFx = df(x0); x = x0; Iter = 0; DeltaX = 1000; DF = 1\n",
    "    while ((abs(DeltaX) > Toler or abs(Fx) > Toler) and (DF != 0) and (Iter < IterMax)):\n",
    "        DeltaX = -Fx/DFx; x = x + DeltaX; Fx = f(x); DFx = df(x); Iter += 1\n",
    "    Raiz = x\n",
    "    if abs(DeltaX) <= Toler and abs(Fx) <= Toler:\n",
    "        CondErro = 0\n",
    "    else:\n",
    "        CondErro = 1\n",
    "    \n",
    "    print(f'Raiz: {Raiz}\\nIter: {Iter}\\nCondErro: {CondErro}') "
   ]
  },
  {
   "cell_type": "code",
   "execution_count": null,
   "metadata": {},
   "outputs": [],
   "source": [
    "x0 = 4; Toler = 0.000010000; IterMax = 10000\n",
    "t_ini = timer()\n",
    "Newton(x0, Toler, IterMax)\n",
    "t_fim = timer()\n",
    "print(f\"Tempo: {t_fim-t_ini} segundos\")"
   ]
  }
 ],
 "metadata": {
  "kernelspec": {
   "display_name": "Python 3",
   "language": "python",
   "name": "python3"
  },
  "language_info": {
   "codemirror_mode": {
    "name": "ipython",
    "version": 3
   },
   "file_extension": ".py",
   "mimetype": "text/x-python",
   "name": "python",
   "nbconvert_exporter": "python",
   "pygments_lexer": "ipython3",
   "version": "3.7.3"
  }
 },
 "nbformat": 4,
 "nbformat_minor": 2
}
