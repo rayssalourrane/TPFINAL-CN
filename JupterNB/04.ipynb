{
 "cells": [
  {
   "cell_type": "code",
   "execution_count": null,
   "metadata": {},
   "outputs": [],
   "source": [
    "import numpy as np\n",
    "from pylab import imshow, show, imsave, figure\n",
    "from timeit import default_timer as timer\n",
    "from numba import autojit"
   ]
  },
  {
   "cell_type": "code",
   "execution_count": null,
   "metadata": {},
   "outputs": [],
   "source": [
    "@autojit\n",
    "def mandel(x, y, max_iters):\n",
    "    c = complex(x, y)\n",
    "    z = 0.0j\n",
    "    for i in range(max_iters):\n",
    "        z = z*z + c\n",
    "        if (z.real*z.real + z.imag*z.imag) >= 4:\n",
    "            return i\n",
    "    return max_iters\n",
    "@autojit\n",
    "def create_fractal(min_x, max_x, min_y, max_y, image, iters):\n",
    "      height = image.shape[0]\n",
    "      width = image.shape[1]\n",
    "      pixel_size_x = (max_x - min_x) / width\n",
    "      pixel_size_y = (max_y - min_y) / height\n",
    "      for x in range(width):\n",
    "            real = min_x + x * pixel_size_x\n",
    "            for y in range(height):\n",
    "                imag = min_y + y * pixel_size_y\n",
    "                color = mandel(real, imag, iters)\n",
    "                image[y, x] = color"
   ]
  },
  {
   "cell_type": "code",
   "execution_count": null,
   "metadata": {
    "scrolled": true
   },
   "outputs": [],
   "source": [
    "image = np.zeros((1024, 1536), dtype = np.uint8) #1024, 1536 / 4096, 6144\n",
    "start = timer()\n",
    "create_fractal(-2.0, 1.0, -1.0, 1.0, image, 10000) \n",
    "dt = timer() - start\n",
    "print(\"Mandelbrot criado em %f segundos\" % dt)\n",
    "figure(dpi=320)\n",
    "imshow(image, cmap = 'hsv', interpolation = 'spline36') #exibir a matriz como uma imagem\n",
    "show()\n",
    "#imsave('Mandelbrot_py_10000.png', image, cmap = 'hsv') #salvar a img em algum diretorio"
   ]
  }
 ],
 "metadata": {
  "kernelspec": {
   "display_name": "Python 3",
   "language": "python",
   "name": "python3"
  },
  "language_info": {
   "codemirror_mode": {
    "name": "ipython",
    "version": 3
   },
   "file_extension": ".py",
   "mimetype": "text/x-python",
   "name": "python",
   "nbconvert_exporter": "python",
   "pygments_lexer": "ipython3",
   "version": "3.7.3"
  }
 },
 "nbformat": 4,
 "nbformat_minor": 2
}
